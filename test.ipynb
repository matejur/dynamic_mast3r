{
 "cells": [
  {
   "cell_type": "code",
   "execution_count": 1,
   "metadata": {},
   "outputs": [],
   "source": [
    "%load_ext autoreload\n",
    "%autoreload 2\n",
    "\n",
    "from mast3r.datasets.pointodyssey import PointOdyssey\n",
    "from mast3r.datasets.kubric import Kubric"
   ]
  },
  {
   "cell_type": "code",
   "execution_count": 41,
   "metadata": {},
   "outputs": [
    {
     "name": "stdout",
     "output_type": "stream",
     "text": [
      "['data/point_odyssey/sample/r4_new_f/', 'data/point_odyssey/sample/scene_d78_0318_3rd/']\n",
      "found 2 unique videos in data/point_odyssey (split=sample)\n",
      "loading trajectories...\n",
      "seq data/point_odyssey/sample/r4_new_f/\n",
      ".....seq data/point_odyssey/sample/scene_d78_0318_3rd/\n",
      ".....stride counts: {1: 1799, 2: 1797, 4: 1793, 8: 1785, 16: 1769}\n",
      "resampled_num_clips_each_stride: [884, 1105, 1326, 1547, 1769]\n",
      "collected 6631 clips of length 2 in data/point_odyssey (dset=sample)\n"
     ]
    }
   ],
   "source": [
    "dataset_p = PointOdyssey(\n",
    "    root=\"data/point_odyssey\",\n",
    "    split=\"sample\",\n",
    "    strides=[1, 2, 4, 8, 16],\n",
    "    clip_step=2,\n",
    "    quick=False,\n",
    "    verbose=True,\n",
    "    aug_crop=\"auto\",\n",
    "    resolution=[(512, 256), (512, 384), (512, 336)],\n",
    "    n_corres=512,\n",
    ")"
   ]
  },
  {
   "cell_type": "code",
   "execution_count": 5,
   "metadata": {},
   "outputs": [
    {
     "name": "stdout",
     "output_type": "stream",
     "text": [
      "found 20 unique videos in data/panning_movi_e_point_tracking (split=train)\n",
      "loading trajectories...\n",
      "stride counts: {1: 460, 2: 440, 3: 420, 4: 400, 5: 380, 6: 360, 7: 340, 8: 320}\n",
      "resampled_num_clips_each_stride: [160, 182, 205, 228, 251, 274, 297, 320]\n",
      "collected 1917 clips of length 2 in data/panning_movi_e_point_tracking (dset=train)\n"
     ]
    }
   ],
   "source": [
    "dataset_k = Kubric(\n",
    "    root=\"data/panning_movi_e_point_tracking\",\n",
    "    split=\"train\",\n",
    "    n_corres=128,\n",
    "    strides=[1, 2, 3, 4, 5, 6, 7, 8],\n",
    "    # clip_step=2,\n",
    "    # quick=False,\n",
    "    # verbose=True,\n",
    "    aug_crop=\"auto\",\n",
    "    resolution=[(256, 256), (512, 384), (512, 336)],\n",
    "    # n_corres=512,\n",
    ")"
   ]
  },
  {
   "cell_type": "code",
   "execution_count": null,
   "metadata": {},
   "outputs": [
    {
     "data": {
      "text/plain": [
       "(np.int32(3), np.int32(244), np.int32(0), np.int32(255))"
      ]
     },
     "execution_count": 19,
     "metadata": {},
     "output_type": "execute_result"
    }
   ],
   "source": [
    "%matplotlib qt\n",
    "import matplotlib.pyplot as plt\n",
    "import numpy as np\n",
    "\n",
    "d = dataset_k[(1000, 0)]\n",
    "view1, view2 = d\n",
    "\n",
    "img1 = view1[\"img\"].permute(1, 2, 0).numpy() * 0.5 + 0.5\n",
    "img2 = view2[\"img\"].permute(1, 2, 0).numpy() * 0.5 + 0.5\n",
    "\n",
    "viz_img = np.concatenate([img1, img2], axis=1)\n",
    "\n",
    "corres1 = view1[\"corres\"][view1[\"valid_corres\"]]\n",
    "corres2 = view2[\"corres\"][view2[\"valid_corres\"]]\n",
    "\n",
    "plt.figure()\n",
    "plt.imshow(viz_img)\n",
    "plt.scatter(corres1[:, 0], corres1[:, 1], c=\"g\", s=1)\n",
    "plt.scatter(corres2[:, 0] + img1.shape[1], corres2[:, 1], c=\"r\", s=1)\n",
    "plt.plot(\n",
    "    [corres1[:, 0], corres2[:, 0] + img1.shape[1]],\n",
    "    [corres1[:, 1], corres2[:, 1]],\n",
    "    c=\"r\",\n",
    "    lw=0.5,\n",
    ")"
   ]
  },
  {
   "cell_type": "code",
   "execution_count": 251,
   "metadata": {},
   "outputs": [],
   "source": [
    "import open3d as o3d\n",
    "\n",
    "\n",
    "pts1 = view1[\"pts3d\"].reshape(-1, 3).astype(np.float64)\n",
    "pts2 = view2[\"pts3d\"].reshape(-1, 3).astype(np.float64)\n",
    "colors1 = (\n",
    "    view1[\"img\"].permute(1, 2, 0).contiguous().reshape(-1, 3).numpy().astype(np.float64)\n",
    ") * 0.5 + 0.5\n",
    "colors2 = (\n",
    "    view2[\"img\"].permute(1, 2, 0).contiguous().reshape(-1, 3).numpy().astype(np.float64)\n",
    ") * 0.5 + 0.5\n",
    "\n",
    "# tint colors 1 with red\n",
    "colors1 = colors1 * np.array([1, 0.5, 0.5])\n",
    "# tint colors 2 with blue\n",
    "colors2 = colors2 * np.array([0.5, 0.5, 1])\n",
    "\n",
    "pcd1 = o3d.geometry.PointCloud()\n",
    "pcd1.points = o3d.utility.Vector3dVector(pts1)\n",
    "pcd1.colors = o3d.utility.Vector3dVector(colors1)\n",
    "\n",
    "pcd2 = o3d.geometry.PointCloud()\n",
    "pcd2.points = o3d.utility.Vector3dVector(pts2)\n",
    "pcd2.colors = o3d.utility.Vector3dVector(colors2)\n",
    "\n",
    "o3d.visualization.draw_geometries([pcd1, pcd2])"
   ]
  }
 ],
 "metadata": {
  "kernelspec": {
   "display_name": ".venv",
   "language": "python",
   "name": "python3"
  },
  "language_info": {
   "codemirror_mode": {
    "name": "ipython",
    "version": 3
   },
   "file_extension": ".py",
   "mimetype": "text/x-python",
   "name": "python",
   "nbconvert_exporter": "python",
   "pygments_lexer": "ipython3",
   "version": "3.11.11"
  }
 },
 "nbformat": 4,
 "nbformat_minor": 2
}
